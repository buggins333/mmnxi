{
 "cells": [
  {
   "cell_type": "markdown",
   "metadata": {},
   "source": [
    "# \"Wild Magic Surges\"\n",
    "- categories: [dnd]\n",
    "- image: images/dnd/rolls.png"
   ]
  },
  {
   "cell_type": "markdown",
   "metadata": {},
   "source": [
    "### A Comparison of Two Homebrew Methods\n",
    "\n",
    "In order to make Wild Magic Surges a more frequent occurence, we can tweak the rules to trigger them. Two such tweaks are:\n",
    "\n",
    "1. The \"Increasing Count\" method. Start as usual with a Wild Magic Surge triggering when the player rolls a `1` on their Surge roll. Every time a Surge *does not occur*, increase the D.C. for avoiding the Surge by one: `1` $\\rightarrow$ `2` $\\rightarrow$ `3`, etc. When a Surge *does* occur, reset the D.C. to 1.\n",
    "\n",
    "2. The \"Decreasing Die\" method. Start as usual with a Wild Magic Surge triggering when the player rolls a `1` on their `d20` Surge roll. Every time a surge *does not occur*, decrease the size of the die by one: `d20` $\\rightarrow$ `d12` $\\rightarrow$ `d10`, etc. When a Surge *does* occur, reset the die to a `d20`. If a player avoids triggering a Surge all the way down through a `d2` (a coin flip), their next Surge is automatic. Or, we can think of this as rolling a `1` on a \"`d1`\".\n",
    "\n",
    "Below we calculate the probabilities of triggering a Wild Magic Surge under both of the above systems."
   ]
  },
  {
   "cell_type": "code",
   "execution_count": 70,
   "metadata": {},
   "outputs": [],
   "source": [
    "import numpy as np\n",
    "import pandas as pd\n",
    "import altair as alt\n",
    "dice = [20, 12, 10, 8, 6, 4, 2, 1, 1, 1, 1, 1, 1, 1, 1, 1, 1, 1, 1, 1]\n",
    "count = [*range(1,21)]\n",
    "\n",
    "def pDiceSurge(d):\n",
    "    return 1.0/d\n",
    "def pDiceNoSurge(d):\n",
    "    return 1.0-(1.0/d)\n",
    "def pCountSurge(dc):\n",
    "    return dc/20.0\n",
    "def pCountNoSurge(dc):\n",
    "    return 1-(dc/20.0)"
   ]
  },
  {
   "cell_type": "markdown",
   "metadata": {},
   "source": [
    "First, we calculate the $PDF$ for the Decreasing Dice method &mdash; that is, the probability of rolling a Wild Magic surge on the $i^{th}$ roll exactly, no earlier and no later, for each $i$.\n",
    "\n",
    "This is equal to the probability that we *don't* rolls a surge for the first $i-1$ rolls, times the probability that we *do* roll a surge on the $i^{th}$ roll:"
   ]
  },
  {
   "cell_type": "code",
   "execution_count": 71,
   "metadata": {},
   "outputs": [],
   "source": [
    "marginalP = list(map(pDiceNoSurge, dice))\n",
    "dicePDF = []\n",
    "for i in range(0,20):\n",
    "    if (i == 0):\n",
    "        P = pDiceSurge(dice[0])\n",
    "    else:\n",
    "        P = np.prod(marginalP[:i]) * pDiceSurge(dice[i])\n",
    "    dicePDF.append(P)"
   ]
  },
  {
   "cell_type": "markdown",
   "metadata": {},
   "source": [
    "We also calculate the $PDF$ for the Increasing Count method:"
   ]
  },
  {
   "cell_type": "code",
   "execution_count": 72,
   "metadata": {},
   "outputs": [],
   "source": [
    "marginalP = list(map(pCountNoSurge, count))\n",
    "countPDF = []\n",
    "for i in range(0,20):\n",
    "    if (i == 0):\n",
    "        P = pCountSurge(count[0])\n",
    "    else:\n",
    "        P = np.prod(marginalP[:i]) * pCountSurge(count[i])\n",
    "    countPDF.append(P)"
   ]
  },
  {
   "cell_type": "markdown",
   "metadata": {},
   "source": [
    "Then we calculate the $CDF$ &mdash; that is, the probability of encountering a Wild Magic Surge in $k$ rolls or fewer, for each $k$.  \n",
    "This is just the sum from $i=1$ to $i=k$ of the probabilities of getting a surge in exactly $i$ rolls &mdash; a partial sum of the $PDF$ we calculated above:"
   ]
  },
  {
   "cell_type": "code",
   "execution_count": 73,
   "metadata": {},
   "outputs": [],
   "source": [
    "diceCDF = []\n",
    "countCDF = []\n",
    "for i in range(1,21):\n",
    "    diceCDF.append(np.sum(dicePDF[:i]))\n",
    "    countCDF.append(np.sum(countPDF[:i]))"
   ]
  },
  {
   "cell_type": "markdown",
   "metadata": {},
   "source": [
    "And now, the fun part, we plot the results!"
   ]
  },
  {
   "cell_type": "code",
   "execution_count": 65,
   "metadata": {},
   "outputs": [
    {
     "data": {
      "text/html": [
       "\n",
       "<div id=\"altair-viz-29ea6b60a555442ab8e119cb06a27c0b\"></div>\n",
       "<script type=\"text/javascript\">\n",
       "  (function(spec, embedOpt){\n",
       "    let outputDiv = document.currentScript.previousElementSibling;\n",
       "    if (outputDiv.id !== \"altair-viz-29ea6b60a555442ab8e119cb06a27c0b\") {\n",
       "      outputDiv = document.getElementById(\"altair-viz-29ea6b60a555442ab8e119cb06a27c0b\");\n",
       "    }\n",
       "    const paths = {\n",
       "      \"vega\": \"https://cdn.jsdelivr.net/npm//vega@5?noext\",\n",
       "      \"vega-lib\": \"https://cdn.jsdelivr.net/npm//vega-lib?noext\",\n",
       "      \"vega-lite\": \"https://cdn.jsdelivr.net/npm//vega-lite@4.8.1?noext\",\n",
       "      \"vega-embed\": \"https://cdn.jsdelivr.net/npm//vega-embed@6?noext\",\n",
       "    };\n",
       "\n",
       "    function loadScript(lib) {\n",
       "      return new Promise(function(resolve, reject) {\n",
       "        var s = document.createElement('script');\n",
       "        s.src = paths[lib];\n",
       "        s.async = true;\n",
       "        s.onload = () => resolve(paths[lib]);\n",
       "        s.onerror = () => reject(`Error loading script: ${paths[lib]}`);\n",
       "        document.getElementsByTagName(\"head\")[0].appendChild(s);\n",
       "      });\n",
       "    }\n",
       "\n",
       "    function showError(err) {\n",
       "      outputDiv.innerHTML = `<div class=\"error\" style=\"color:red;\">${err}</div>`;\n",
       "      throw err;\n",
       "    }\n",
       "\n",
       "    function displayChart(vegaEmbed) {\n",
       "      vegaEmbed(outputDiv, spec, embedOpt)\n",
       "        .catch(err => showError(`Javascript Error: ${err.message}<br>This usually means there's a typo in your chart specification. See the javascript console for the full traceback.`));\n",
       "    }\n",
       "\n",
       "    if(typeof define === \"function\" && define.amd) {\n",
       "      requirejs.config({paths});\n",
       "      require([\"vega-embed\"], displayChart, err => showError(`Error loading script: ${err.message}`));\n",
       "    } else if (typeof vegaEmbed === \"function\") {\n",
       "      displayChart(vegaEmbed);\n",
       "    } else {\n",
       "      loadScript(\"vega\")\n",
       "        .then(() => loadScript(\"vega-lite\"))\n",
       "        .then(() => loadScript(\"vega-embed\"))\n",
       "        .catch(showError)\n",
       "        .then(() => displayChart(vegaEmbed));\n",
       "    }\n",
       "  })({\"config\": {\"view\": {\"continuousWidth\": 400, \"continuousHeight\": 300}}, \"layer\": [{\"mark\": \"point\", \"encoding\": {\"opacity\": {\"value\": 0}, \"x\": {\"type\": \"ordinal\", \"field\": \"Number of Rolls\"}}, \"selection\": {\"selector008\": {\"type\": \"single\", \"nearest\": true, \"on\": \"mouseover\", \"fields\": [\"Number of Rolls\"], \"empty\": \"none\"}}}, {\"mark\": \"circle\", \"encoding\": {\"color\": {\"type\": \"nominal\", \"field\": \"Method\"}, \"opacity\": {\"condition\": {\"value\": 1, \"selection\": \"selector008\"}, \"value\": 0.6}, \"x\": {\"type\": \"ordinal\", \"field\": \"Number of Rolls\"}, \"y\": {\"type\": \"quantitative\", \"field\": \"Probability\", \"title\": \"Probability of a Surge\"}}}, {\"mark\": {\"type\": \"rule\", \"color\": \"gray\"}, \"encoding\": {\"x\": {\"type\": \"ordinal\", \"field\": \"Number of Rolls\"}}, \"transform\": [{\"filter\": {\"selection\": \"selector008\"}}]}, {\"mark\": {\"type\": \"text\", \"align\": \"left\", \"dx\": 5, \"dy\": -5}, \"encoding\": {\"color\": {\"type\": \"nominal\", \"field\": \"Method\"}, \"opacity\": {\"condition\": {\"value\": 1, \"selection\": \"selector008\"}, \"value\": 0.6}, \"text\": {\"condition\": {\"type\": \"quantitative\", \"field\": \"Probability\", \"selection\": \"selector008\"}, \"value\": \" \"}, \"x\": {\"type\": \"ordinal\", \"field\": \"Number of Rolls\"}, \"y\": {\"type\": \"quantitative\", \"field\": \"Probability\", \"title\": \"Probability of a Surge\"}}}], \"data\": {\"name\": \"data-7b09d4d0fad293183e3d0139dd369ac7\"}, \"height\": 300, \"width\": 600, \"$schema\": \"https://vega.github.io/schema/vega-lite/v4.8.1.json\", \"datasets\": {\"data-7b09d4d0fad293183e3d0139dd369ac7\": [{\"Number of Rolls\": 1, \"Probability\": 0.05, \"Method\": \"Decreasing Die\"}, {\"Number of Rolls\": 1, \"Probability\": 0.05, \"Method\": \"Increasing Count\"}, {\"Number of Rolls\": 2, \"Probability\": 0.12916666666666665, \"Method\": \"Decreasing Die\"}, {\"Number of Rolls\": 2, \"Probability\": 0.14500000000000002, \"Method\": \"Increasing Count\"}, {\"Number of Rolls\": 3, \"Probability\": 0.21625, \"Method\": \"Decreasing Die\"}, {\"Number of Rolls\": 3, \"Probability\": 0.27325, \"Method\": \"Increasing Count\"}, {\"Number of Rolls\": 4, \"Probability\": 0.31421875, \"Method\": \"Decreasing Die\"}, {\"Number of Rolls\": 4, \"Probability\": 0.41859999999999997, \"Method\": \"Increasing Count\"}, {\"Number of Rolls\": 5, \"Probability\": 0.42851562499999996, \"Method\": \"Decreasing Die\"}, {\"Number of Rolls\": 5, \"Probability\": 0.56395, \"Method\": \"Increasing Count\"}, {\"Number of Rolls\": 6, \"Probability\": 0.5713867187499999, \"Method\": \"Decreasing Die\"}, {\"Number of Rolls\": 6, \"Probability\": 0.694765, \"Method\": \"Increasing Count\"}, {\"Number of Rolls\": 7, \"Probability\": 0.785693359375, \"Method\": \"Decreasing Die\"}, {\"Number of Rolls\": 7, \"Probability\": 0.8015972499999999, \"Method\": \"Increasing Count\"}, {\"Number of Rolls\": 8, \"Probability\": 1.0, \"Method\": \"Decreasing Die\"}, {\"Number of Rolls\": 8, \"Probability\": 0.88095835, \"Method\": \"Increasing Count\"}, {\"Number of Rolls\": 9, \"Probability\": 1.0, \"Method\": \"Decreasing Die\"}, {\"Number of Rolls\": 9, \"Probability\": 0.9345270925, \"Method\": \"Increasing Count\"}, {\"Number of Rolls\": 10, \"Probability\": 1.0, \"Method\": \"Decreasing Die\"}, {\"Number of Rolls\": 10, \"Probability\": 0.96726354625, \"Method\": \"Increasing Count\"}, {\"Number of Rolls\": 11, \"Probability\": 1.0, \"Method\": \"Decreasing Die\"}, {\"Number of Rolls\": 11, \"Probability\": 0.9852685958125, \"Method\": \"Increasing Count\"}, {\"Number of Rolls\": 12, \"Probability\": 1.0, \"Method\": \"Decreasing Die\"}, {\"Number of Rolls\": 12, \"Probability\": 0.994107438325, \"Method\": \"Increasing Count\"}, {\"Number of Rolls\": 13, \"Probability\": 1.0, \"Method\": \"Decreasing Die\"}, {\"Number of Rolls\": 13, \"Probability\": 0.99793760341375, \"Method\": \"Increasing Count\"}, {\"Number of Rolls\": 14, \"Probability\": 1.0, \"Method\": \"Decreasing Die\"}, {\"Number of Rolls\": 14, \"Probability\": 0.999381281024125, \"Method\": \"Increasing Count\"}, {\"Number of Rolls\": 15, \"Probability\": 1.0, \"Method\": \"Decreasing Die\"}, {\"Number of Rolls\": 15, \"Probability\": 0.9998453202560313, \"Method\": \"Increasing Count\"}, {\"Number of Rolls\": 16, \"Probability\": 1.0, \"Method\": \"Decreasing Die\"}, {\"Number of Rolls\": 16, \"Probability\": 0.9999690640512062, \"Method\": \"Increasing Count\"}, {\"Number of Rolls\": 17, \"Probability\": 1.0, \"Method\": \"Decreasing Die\"}, {\"Number of Rolls\": 17, \"Probability\": 0.9999953596076809, \"Method\": \"Increasing Count\"}, {\"Number of Rolls\": 18, \"Probability\": 1.0, \"Method\": \"Decreasing Die\"}, {\"Number of Rolls\": 18, \"Probability\": 0.9999995359607681, \"Method\": \"Increasing Count\"}, {\"Number of Rolls\": 19, \"Probability\": 1.0, \"Method\": \"Decreasing Die\"}, {\"Number of Rolls\": 19, \"Probability\": 0.9999999767980384, \"Method\": \"Increasing Count\"}, {\"Number of Rolls\": 20, \"Probability\": 1.0, \"Method\": \"Decreasing Die\"}, {\"Number of Rolls\": 20, \"Probability\": 1.0, \"Method\": \"Increasing Count\"}]}}, {\"mode\": \"vega-lite\"});\n",
       "</script>"
      ],
      "text/plain": [
       "alt.LayerChart(...)"
      ]
     },
     "execution_count": 65,
     "metadata": {},
     "output_type": "execute_result"
    }
   ],
   "source": [
    "#collapse\n",
    "cData = []\n",
    "pData = []\n",
    "for i in range(0, len(diceCDF)):\n",
    "    cData.append([i+1, diceCDF[i], 'Decreasing Die'])\n",
    "    cData.append([i+1, countCDF[i], 'Increasing Count'])\n",
    "    pData.append([i+1, dicePDF[i], 'Decreasing Die'])\n",
    "    pData.append([i+1, countPDF[i], 'Increasing Count'])\n",
    "\n",
    "df = pd.DataFrame(cData, columns=['Number of Rolls', 'Probability', 'Method'])\n",
    "df.reset_index()\n",
    "\n",
    "# Create a selection that chooses the nearest point & selects based on x-value\n",
    "nearest = alt.selection(type='single', nearest=True, on='mouseover',\n",
    "                        fields=['Number of Rolls'], empty='none')\n",
    "\n",
    "points = alt.Chart(df).mark_circle().encode(\n",
    "    x='Number of Rolls:O',\n",
    "    y=alt.Y('Probability', title='Probability of a Surge'),\n",
    "    color='Method',\n",
    "    opacity=alt.condition(nearest, alt.value(1), alt.value(.6))\n",
    ")\n",
    "\n",
    "# Transparent selectors across the chart. This is what tells us\n",
    "# the x-value of the cursor\n",
    "selectors = alt.Chart(df).mark_point().encode(\n",
    "    x='Number of Rolls:O',\n",
    "    opacity=alt.value(0),\n",
    ").add_selection(\n",
    "    nearest\n",
    ")\n",
    "\n",
    "# Draw text labels near the points, and highlight based on selection\n",
    "text = points.mark_text(align='left', dx=5, dy=-5).encode(\n",
    "    text=alt.condition(nearest, 'Probability:Q',alt.value(' '))\n",
    ")\n",
    "\n",
    "# Draw a rule at the location of the selection\n",
    "rules = alt.Chart(df).mark_rule(color='gray').encode(\n",
    "    x='Number of Rolls:O',\n",
    ").transform_filter(\n",
    "    nearest\n",
    ")\n",
    "\n",
    "# Put the five layers into a chart and bind the data\n",
    "alt.layer(\n",
    "    selectors, points, rules, text\n",
    ").properties(\n",
    "    width=600, height=300\n",
    ")"
   ]
  },
  {
   "cell_type": "markdown",
   "metadata": {},
   "source": [
    "As you can see, the probability of a Wild Magic Surge is generally higher with the Increasing Count method. This is somewhat expected, as the probability is the same initially for both methods, then at the second roll we have:\n",
    "\n",
    "$$\\begin{align}\n",
    "P_{\\text{Increasing Count}}(S) = \\frac{2}{20} &= \\frac{1}{10}\\\\\n",
    "P_{\\text{Decreasing Die}}(S) &= \\frac{1}{12}\n",
    "\\end{align}$$\n",
    "\n",
    "Similarly for the third roll, where the Increasing Count gives a $3/20$ probability of a surge vs. a $1/10$ for the Decreasing Die. So the Increasing Count takes an early lead which it maintains until the seventh roll, where the probability is about even between the methods. After this roll, the Decreasing Die method takes the lead because it gives an automatic Surge from here on out.\n",
    "\n",
    "My personal preference would lean towards the Increasing Count method, since you could conceivably get a string of rolls that build to a fairly high D.C., which feels a little more dramatic. On the other hand, the Decreasing Die method gives you a guaranteed Surge a fair bit sooner, which is part of the point of these tweaks in the first place."
   ]
  },
  {
   "cell_type": "markdown",
   "metadata": {},
   "source": [
    "We can also compute the expected number of rolls to get a Wild Magic Surge for both methods:"
   ]
  },
  {
   "cell_type": "code",
   "execution_count": 74,
   "metadata": {},
   "outputs": [
    {
     "name": "stdout",
     "output_type": "stream",
     "text": [
      "Expectation for Dice  Method: 5.504768880208333\n",
      "Expectation for Count Method: 5.293584586000901\n"
     ]
    }
   ],
   "source": [
    "def E(pdf):\n",
    "    ex = 0\n",
    "    for i in range(0, len(pdf)):\n",
    "        ex += (i+1)*pdf[i]\n",
    "    return ex\n",
    "\n",
    "print(\"Expectation for Dice  Method:\", E(dicePDF))\n",
    "print(\"Expectation for Count Method:\", E(countPDF))"
   ]
  },
  {
   "cell_type": "markdown",
   "metadata": {},
   "source": [
    "Which is to say, on average the Increasing Count method will give us a Wild Magic Surge slightly sooner. Perhaps another reason to favor it.\n",
    "\n",
    "For completeness, here is the same data as in the graph, but in a table view:"
   ]
  },
  {
   "cell_type": "code",
   "execution_count": 69,
   "metadata": {},
   "outputs": [
    {
     "data": {
      "text/html": [
       "<div>\n",
       "<style scoped>\n",
       "    .dataframe tbody tr th:only-of-type {\n",
       "        vertical-align: middle;\n",
       "    }\n",
       "\n",
       "    .dataframe tbody tr th {\n",
       "        vertical-align: top;\n",
       "    }\n",
       "\n",
       "    .dataframe thead tr th {\n",
       "        text-align: left;\n",
       "    }\n",
       "\n",
       "    .dataframe thead tr:last-of-type th {\n",
       "        text-align: right;\n",
       "    }\n",
       "</style>\n",
       "<table border=\"1\" class=\"dataframe\">\n",
       "  <thead>\n",
       "    <tr>\n",
       "      <th></th>\n",
       "      <th colspan=\"2\" halign=\"left\">Probability</th>\n",
       "    </tr>\n",
       "    <tr>\n",
       "      <th>Method</th>\n",
       "      <th>Decreasing Die</th>\n",
       "      <th>Increasing Count</th>\n",
       "    </tr>\n",
       "    <tr>\n",
       "      <th>Number of Rolls</th>\n",
       "      <th></th>\n",
       "      <th></th>\n",
       "    </tr>\n",
       "  </thead>\n",
       "  <tbody>\n",
       "    <tr>\n",
       "      <th>1</th>\n",
       "      <td>0.050000</td>\n",
       "      <td>0.050000</td>\n",
       "    </tr>\n",
       "    <tr>\n",
       "      <th>2</th>\n",
       "      <td>0.129167</td>\n",
       "      <td>0.145000</td>\n",
       "    </tr>\n",
       "    <tr>\n",
       "      <th>3</th>\n",
       "      <td>0.216250</td>\n",
       "      <td>0.273250</td>\n",
       "    </tr>\n",
       "    <tr>\n",
       "      <th>4</th>\n",
       "      <td>0.314219</td>\n",
       "      <td>0.418600</td>\n",
       "    </tr>\n",
       "    <tr>\n",
       "      <th>5</th>\n",
       "      <td>0.428516</td>\n",
       "      <td>0.563950</td>\n",
       "    </tr>\n",
       "    <tr>\n",
       "      <th>6</th>\n",
       "      <td>0.571387</td>\n",
       "      <td>0.694765</td>\n",
       "    </tr>\n",
       "    <tr>\n",
       "      <th>7</th>\n",
       "      <td>0.785693</td>\n",
       "      <td>0.801597</td>\n",
       "    </tr>\n",
       "    <tr>\n",
       "      <th>8</th>\n",
       "      <td>1.000000</td>\n",
       "      <td>0.880958</td>\n",
       "    </tr>\n",
       "    <tr>\n",
       "      <th>9</th>\n",
       "      <td>1.000000</td>\n",
       "      <td>0.934527</td>\n",
       "    </tr>\n",
       "    <tr>\n",
       "      <th>10</th>\n",
       "      <td>1.000000</td>\n",
       "      <td>0.967264</td>\n",
       "    </tr>\n",
       "    <tr>\n",
       "      <th>11</th>\n",
       "      <td>1.000000</td>\n",
       "      <td>0.985269</td>\n",
       "    </tr>\n",
       "    <tr>\n",
       "      <th>12</th>\n",
       "      <td>1.000000</td>\n",
       "      <td>0.994107</td>\n",
       "    </tr>\n",
       "    <tr>\n",
       "      <th>13</th>\n",
       "      <td>1.000000</td>\n",
       "      <td>0.997938</td>\n",
       "    </tr>\n",
       "    <tr>\n",
       "      <th>14</th>\n",
       "      <td>1.000000</td>\n",
       "      <td>0.999381</td>\n",
       "    </tr>\n",
       "    <tr>\n",
       "      <th>15</th>\n",
       "      <td>1.000000</td>\n",
       "      <td>0.999845</td>\n",
       "    </tr>\n",
       "    <tr>\n",
       "      <th>16</th>\n",
       "      <td>1.000000</td>\n",
       "      <td>0.999969</td>\n",
       "    </tr>\n",
       "    <tr>\n",
       "      <th>17</th>\n",
       "      <td>1.000000</td>\n",
       "      <td>0.999995</td>\n",
       "    </tr>\n",
       "    <tr>\n",
       "      <th>18</th>\n",
       "      <td>1.000000</td>\n",
       "      <td>1.000000</td>\n",
       "    </tr>\n",
       "    <tr>\n",
       "      <th>19</th>\n",
       "      <td>1.000000</td>\n",
       "      <td>1.000000</td>\n",
       "    </tr>\n",
       "    <tr>\n",
       "      <th>20</th>\n",
       "      <td>1.000000</td>\n",
       "      <td>1.000000</td>\n",
       "    </tr>\n",
       "  </tbody>\n",
       "</table>\n",
       "</div>"
      ],
      "text/plain": [
       "                   Probability                 \n",
       "Method          Decreasing Die Increasing Count\n",
       "Number of Rolls                                \n",
       "1                     0.050000         0.050000\n",
       "2                     0.129167         0.145000\n",
       "3                     0.216250         0.273250\n",
       "4                     0.314219         0.418600\n",
       "5                     0.428516         0.563950\n",
       "6                     0.571387         0.694765\n",
       "7                     0.785693         0.801597\n",
       "8                     1.000000         0.880958\n",
       "9                     1.000000         0.934527\n",
       "10                    1.000000         0.967264\n",
       "11                    1.000000         0.985269\n",
       "12                    1.000000         0.994107\n",
       "13                    1.000000         0.997938\n",
       "14                    1.000000         0.999381\n",
       "15                    1.000000         0.999845\n",
       "16                    1.000000         0.999969\n",
       "17                    1.000000         0.999995\n",
       "18                    1.000000         1.000000\n",
       "19                    1.000000         1.000000\n",
       "20                    1.000000         1.000000"
      ]
     },
     "execution_count": 69,
     "metadata": {},
     "output_type": "execute_result"
    }
   ],
   "source": [
    "df.pivot(index='Number of Rolls', columns='Method')"
   ]
  }
 ],
 "metadata": {
  "kernelspec": {
   "display_name": "Python 3",
   "language": "python",
   "name": "python3"
  },
  "language_info": {
   "codemirror_mode": {
    "name": "ipython",
    "version": 3
   },
   "file_extension": ".py",
   "mimetype": "text/x-python",
   "name": "python",
   "nbconvert_exporter": "python",
   "pygments_lexer": "ipython3",
   "version": "3.7.5"
  }
 },
 "nbformat": 4,
 "nbformat_minor": 4
}
